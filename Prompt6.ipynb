{
 "cells": [
  {
   "cell_type": "code",
   "execution_count": null,
   "id": "2ffaff9b",
   "metadata": {},
   "outputs": [],
   "source": [
    "import numpy as np"
   ]
  },
  {
   "cell_type": "code",
   "execution_count": null,
   "id": "adabab02",
   "metadata": {},
   "outputs": [],
   "source": [
    "from tabulate import tabulate"
   ]
  },
  {
   "cell_type": "code",
   "execution_count": null,
   "id": "8406e4b3",
   "metadata": {},
   "outputs": [],
   "source": [
    "def cos(x):\n",
    "    z = np.cos(x)\n",
    "    return z"
   ]
  },
  {
   "cell_type": "markdown",
   "id": "e665143b",
   "metadata": {},
   "source": [
    "The function takes the current value of x and plugs it into cos(x) then returns the value."
   ]
  },
  {
   "cell_type": "code",
   "execution_count": null,
   "id": "76a8b0c7",
   "metadata": {},
   "outputs": [],
   "source": [
    "def sin(x):\n",
    "    y = np.sin(x)\n",
    "    return y"
   ]
  },
  {
   "cell_type": "markdown",
   "id": "dba97d26",
   "metadata": {},
   "source": [
    "The function takes the current value of x and plugs it into (x) then returns the value."
   ]
  },
  {
   "cell_type": "code",
   "execution_count": null,
   "id": "71d5a1d4",
   "metadata": {},
   "outputs": [],
   "source": [
    "    values = ({'x':[],'sin(x)':[],'cos(x)':[]})\n",
    "    x = 0.\n",
    "    for i in range(1001):\n",
    "        values[\"x\"].append(x)\n",
    "        values[\"sin(x)\"].append(sin(x))\n",
    "        values[\"cos(x)\"].append(cos(x))\n",
    "        x += ((2*np.pi)/1000)\n",
    "    print(tabulate(values, headers = \"keys\"))"
   ]
  },
  {
   "cell_type": "markdown",
   "id": "5790ffb8",
   "metadata": {},
   "source": [
    "This cell gets 1000 values from 0-2pi and places them in a table with x sin(x) and cos(x)"
   ]
  },
  {
   "cell_type": "code",
   "execution_count": null,
   "id": "c42d3085",
   "metadata": {},
   "outputs": [],
   "source": [
    "    values = ({'x':[],'sin(x)':[],'cos(x)':[]})\n",
    "    x = 0.\n",
    "    for i in range(10):\n",
    "        values[\"x\"].append(x)\n",
    "        values[\"sin(x)\"].append(sin(x))\n",
    "        values[\"cos(x)\"].append(cos(x))\n",
    "        x += ((2*np.pi)/1000)\n",
    "    print(tabulate(values, headers = \"keys\"))"
   ]
  },
  {
   "cell_type": "markdown",
   "id": "84daa905",
   "metadata": {},
   "source": [
    "This cell gets the first 10 values of the full table"
   ]
  }
 ],
 "metadata": {
  "kernelspec": {
   "display_name": "Python 3 (ipykernel)",
   "language": "python",
   "name": "python3"
  },
  "language_info": {
   "codemirror_mode": {
    "name": "ipython",
    "version": 3
   },
   "file_extension": ".py",
   "mimetype": "text/x-python",
   "name": "python",
   "nbconvert_exporter": "python",
   "pygments_lexer": "ipython3",
   "version": "3.10.4"
  }
 },
 "nbformat": 4,
 "nbformat_minor": 5
}
