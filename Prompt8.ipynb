{
 "cells": [
  {
   "cell_type": "code",
   "execution_count": null,
   "id": "04c5febc",
   "metadata": {},
   "outputs": [],
   "source": [
    "import matplotlib.pyplot as plt\n",
    "import numpy as np"
   ]
  },
  {
   "cell_type": "code",
   "execution_count": null,
   "id": "08aa9dba",
   "metadata": {},
   "outputs": [],
   "source": [
    "x = np.linspace(0,1,100)"
   ]
  },
  {
   "cell_type": "code",
   "execution_count": null,
   "id": "1a152630",
   "metadata": {},
   "outputs": [],
   "source": [
    "def sandc(x):\n",
    "    y= np.sin(x)\n",
    "    z = np.cos(x)\n",
    "    return y, z"
   ]
  },
  {
   "cell_type": "code",
   "execution_count": null,
   "id": "711ded65",
   "metadata": {},
   "outputs": [],
   "source": [
    "plt.subplot(1,2,1)\n",
    "plt.plot(x,sandc(x)[0])\n",
    "plt.title(\"Sine\")\n",
    "plt.subplot(1,2,2)\n",
    "plt.plot(x,sandc(x)[1])\n",
    "plt.title(\"Cosine\")\n",
    "plt.savefig('Sine and Cosine.pdf')\n",
    "plt.show()"
   ]
  },
  {
   "cell_type": "code",
   "execution_count": null,
   "id": "eafebd5a",
   "metadata": {},
   "outputs": [],
   "source": []
  }
 ],
 "metadata": {
  "kernelspec": {
   "display_name": "Python 3 (ipykernel)",
   "language": "python",
   "name": "python3"
  },
  "language_info": {
   "codemirror_mode": {
    "name": "ipython",
    "version": 3
   },
   "file_extension": ".py",
   "mimetype": "text/x-python",
   "name": "python",
   "nbconvert_exporter": "python",
   "pygments_lexer": "ipython3",
   "version": "3.10.4"
  }
 },
 "nbformat": 4,
 "nbformat_minor": 5
}
